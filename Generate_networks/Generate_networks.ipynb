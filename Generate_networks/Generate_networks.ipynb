{
 "cells": [
  {
   "cell_type": "code",
   "execution_count": null,
   "id": "fd933f50",
   "metadata": {},
   "outputs": [],
   "source": [
    "import pandas as pd\n",
    "import re"
   ]
  },
  {
   "cell_type": "code",
   "execution_count": null,
   "id": "ad328cc3",
   "metadata": {},
   "outputs": [],
   "source": [
    "fields = ['username', 'text', 'date', 'label']\n",
    "\n",
    "df = pd.DataFrame(columns=['Source', 'Target', 'Weight'])\n",
    "\n",
    "extracted_tweets = []\n",
    "\n",
    "list_of_topics = ['ukraine','covid','costofliving','brexit']\n",
    "\n",
    "lbl = list_of_topics.index(topic)+1\n",
    "\n",
    "filename = 'Aggregate_network_'+topic+'.csv'"
   ]
  },
  {
   "cell_type": "code",
   "execution_count": null,
   "id": "ce9b6a72",
   "metadata": {},
   "outputs": [],
   "source": [
    "def intersection(lst1, lst2):\n",
    "    lst3 = [value for value in lst1 if value in lst2]\n",
    "    return lst3"
   ]
  },
  {
   "cell_type": "code",
   "execution_count": null,
   "id": "838155bf",
   "metadata": {},
   "outputs": [],
   "source": [
    "idx = 0\n",
    "\n",
    "df_csv_mp = pd.DataFrame(pd.read_csv('Labelled_tweets/mp_tweets_labelled.csv', skipinitialspace=True, usecols=fields))\n",
    "\n",
    "mp_tweets = df_csv_mp.loc[(df_csv_mp['label'] == lbl)]\n",
    "\n",
    "df_csv_journo = pd.DataFrame(pd.read_csv('Labelled_tweets/journalist_tweets_labelled.csv', skipinitialspace=True, usecols=fields))\n",
    "\n",
    "journalist_tweets = df_csv_journo.loc[(df_csv_journo['label'] == lbl)]\n",
    "\n",
    "tweet_data = mp_tweets[mp_tweets['username'].notna()].append\\\n",
    "    (journalist_tweets[journalist_tweets['username'].notna()])"
   ]
  },
  {
   "cell_type": "code",
   "execution_count": null,
   "id": "6bc27f7f",
   "metadata": {},
   "outputs": [],
   "source": [
    "mp_list = list(pd.read_csv(\"User_list/MPs.csv\")[\"Screen name\"].dropna().str.replace('@',''))\n",
    "\n",
    "journalist_df = pd.DataFrame(pd.read_csv(\"User_list/journalists.csv\", usecols=['Handle'])).dropna()\n",
    "\n",
    "journalist_list = list(journalist_df['Handle'].str.replace('@',''))\n",
    "\n",
    "user_list = mp_list + journalist_list"
   ]
  },
  {
   "cell_type": "code",
   "execution_count": null,
   "id": "330187dc",
   "metadata": {},
   "outputs": [],
   "source": [
    "for index, row in tweet_data.iterrows():\n",
    "    tweet = row['text']\n",
    "\n",
    "    target = row['username']\n",
    "\n",
    "    if '@' in tweet:\n",
    "\n",
    "        result = re.findall(r\"@(\\w+)\", tweet)\n",
    "\n",
    "        retweeted_users = intersection(result, user_list)\n",
    "\n",
    "        itr = 0\n",
    "\n",
    "        while itr < len(retweeted_users):\n",
    "\n",
    "            extracted_tweets.append(tweet)\n",
    "\n",
    "            pos = df.index[(df['Source'] == retweeted_users[itr]) & (df['Target'] == target)].tolist()\n",
    "\n",
    "            if len(pos) > 0:\n",
    "\n",
    "                wt = df.at[pos[0], 'Weight']\n",
    "                df.at[pos[0], 'Weight'] = wt+1\n",
    "\n",
    "            else:\n",
    "\n",
    "                df.loc[idx] = [retweeted_users[itr], target, 1]\n",
    "                idx += 1\n",
    "\n",
    "            itr += 1\n",
    "\n",
    "\n",
    "df.to_csv(filename, index = False)"
   ]
  }
 ],
 "metadata": {
  "kernelspec": {
   "display_name": "Python 3 (ipykernel)",
   "language": "python",
   "name": "python3"
  },
  "language_info": {
   "codemirror_mode": {
    "name": "ipython",
    "version": 3
   },
   "file_extension": ".py",
   "mimetype": "text/x-python",
   "name": "python",
   "nbconvert_exporter": "python",
   "pygments_lexer": "ipython3",
   "version": "3.9.13"
  }
 },
 "nbformat": 4,
 "nbformat_minor": 5
}
