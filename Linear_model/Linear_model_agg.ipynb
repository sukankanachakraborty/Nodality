{
 "cells": [
  {
   "cell_type": "code",
   "execution_count": 1,
   "id": "d19ec274",
   "metadata": {},
   "outputs": [],
   "source": [
    "import pandas as pd\n",
    "from sklearn.linear_model import LinearRegression\n",
    "import statsmodels.api as sm\n",
    "from matplotlib.pyplot import scatter"
   ]
  },
  {
   "cell_type": "code",
   "execution_count": 2,
   "id": "76cbd43f",
   "metadata": {},
   "outputs": [],
   "source": [
    "topics = ['ukraine', 'covid', 'costofliving', 'brexit']"
   ]
  },
  {
   "cell_type": "code",
   "execution_count": 3,
   "id": "9d84f65b",
   "metadata": {},
   "outputs": [],
   "source": [
    "df = pd.DataFrame()\n",
    "\n",
    "for topic in topics:\n",
    "\n",
    "    df_pc = pd.read_csv('PCA/'+topic+'_individual.csv', index_col=0)\n",
    "\n",
    "    df_pc['topic'] = topics.index(topic)\n",
    "\n",
    "    df = pd.concat([df,df_pc])    "
   ]
  },
  {
   "cell_type": "code",
   "execution_count": 4,
   "id": "abd60df7",
   "metadata": {},
   "outputs": [],
   "source": [
    "df['Inherent-Active'] = df['Inherent']*df['Active']\n",
    "df = df.groupby(['Label_str','week','topic']).mean()\n",
    "\n",
    "df = df.reset_index()"
   ]
  },
  {
   "cell_type": "code",
   "execution_count": 5,
   "id": "7b5bb064",
   "metadata": {},
   "outputs": [],
   "source": [
    "for index,row in df.iterrows():\n",
    "    \n",
    "    topic = topics[row['topic']]\n",
    "\n",
    "    lbl = row['Label_str']\n",
    "    week = row['week']\n",
    "    \n",
    "    df_te = pd.read_csv('Transfer_entropy/'+topic+'.csv', index_col=0)\n",
    "\n",
    "    df.at[index,'TE'] = df_te.loc[lbl]['Week'+str(week)]\n",
    "    \n",
    "df['Intercept'] = 1"
   ]
  },
  {
   "cell_type": "code",
   "execution_count": 8,
   "id": "f302acdb",
   "metadata": {},
   "outputs": [
    {
     "name": "stderr",
     "output_type": "stream",
     "text": [
      "/Users/schakraborty/opt/anaconda3/lib/python3.9/site-packages/statsmodels/regression/mixed_linear_model.py:2237: ConvergenceWarning: The MLE may be on the boundary of the parameter space.\n",
      "  warnings.warn(msg, ConvergenceWarning)\n"
     ]
    }
   ],
   "source": [
    "model = sm.MixedLM(df['TE'],df[['Inherent','Active','Inherent-Active','week','Intercept']],groups=df['topic'])\n",
    "results = model.fit()"
   ]
  },
  {
   "cell_type": "code",
   "execution_count": 9,
   "id": "de62904f",
   "metadata": {},
   "outputs": [
    {
     "data": {
      "text/html": [
       "<table class=\"simpletable\">\n",
       "<tr>\n",
       "       <td>Model:</td>       <td>MixedLM</td> <td>Dependent Variable:</td>    <td>TE</td>    \n",
       "</tr>\n",
       "<tr>\n",
       "  <td>No. Observations:</td>  <td>1045</td>         <td>Method:</td>         <td>REML</td>   \n",
       "</tr>\n",
       "<tr>\n",
       "     <td>No. Groups:</td>       <td>4</td>          <td>Scale:</td>         <td>0.0042</td>  \n",
       "</tr>\n",
       "<tr>\n",
       "  <td>Min. group size:</td>    <td>233</td>     <td>Log-Likelihood:</td>   <td>1337.2437</td>\n",
       "</tr>\n",
       "<tr>\n",
       "  <td>Max. group size:</td>    <td>297</td>       <td>Converged:</td>         <td>Yes</td>   \n",
       "</tr>\n",
       "<tr>\n",
       "  <td>Mean group size:</td>   <td>261.2</td>           <td></td>               <td></td>     \n",
       "</tr>\n",
       "</table>\n",
       "<table class=\"simpletable\">\n",
       "<tr>\n",
       "         <td></td>          <th>Coef.</th> <th>Std.Err.</th>    <th>z</th>    <th>P>|z|</th> <th>[0.025</th> <th>0.975]</th>\n",
       "</tr>\n",
       "<tr>\n",
       "  <th>Inherent</th>         <td>0.010</td>   <td>0.001</td>   <td>7.658</td>  <td>0.000</td>  <td>0.008</td>  <td>0.013</td>\n",
       "</tr>\n",
       "<tr>\n",
       "  <th>Active</th>           <td>0.008</td>   <td>0.004</td>   <td>2.246</td>  <td>0.025</td>  <td>0.001</td>  <td>0.016</td>\n",
       "</tr>\n",
       "<tr>\n",
       "  <th>Inherent-Active</th> <td>-0.001</td>   <td>0.001</td>  <td>-1.593</td>  <td>0.111</td> <td>-0.003</td>  <td>0.000</td>\n",
       "</tr>\n",
       "<tr>\n",
       "  <th>week</th>            <td>-0.002</td>   <td>0.000</td>  <td>-10.744</td> <td>0.000</td> <td>-0.002</td> <td>-0.001</td>\n",
       "</tr>\n",
       "<tr>\n",
       "  <th>Intercept</th>        <td>0.088</td>   <td>0.029</td>   <td>3.088</td>  <td>0.002</td>  <td>0.032</td>  <td>0.145</td>\n",
       "</tr>\n",
       "<tr>\n",
       "  <th>Group Var</th>        <td>0.003</td>   <td>0.041</td>     <td></td>       <td></td>       <td></td>       <td></td>   \n",
       "</tr>\n",
       "</table>"
      ],
      "text/plain": [
       "<class 'statsmodels.iolib.summary2.Summary'>\n",
       "\"\"\"\n",
       "           Mixed Linear Model Regression Results\n",
       "===========================================================\n",
       "Model:              MixedLM  Dependent Variable:  TE       \n",
       "No. Observations:   1045     Method:              REML     \n",
       "No. Groups:         4        Scale:               0.0042   \n",
       "Min. group size:    233      Log-Likelihood:      1337.2437\n",
       "Max. group size:    297      Converged:           Yes      \n",
       "Mean group size:    261.2                                  \n",
       "-----------------------------------------------------------\n",
       "                Coef.  Std.Err.    z    P>|z| [0.025 0.975]\n",
       "-----------------------------------------------------------\n",
       "Inherent         0.010    0.001   7.658 0.000  0.008  0.013\n",
       "Active           0.008    0.004   2.246 0.025  0.001  0.016\n",
       "Inherent-Active -0.001    0.001  -1.593 0.111 -0.003  0.000\n",
       "week            -0.002    0.000 -10.744 0.000 -0.002 -0.001\n",
       "Intercept        0.088    0.029   3.088 0.002  0.032  0.145\n",
       "Group Var        0.003    0.041                            \n",
       "===========================================================\n",
       "\n",
       "\"\"\""
      ]
     },
     "execution_count": 9,
     "metadata": {},
     "output_type": "execute_result"
    }
   ],
   "source": [
    "results.summary()"
   ]
  },
  {
   "cell_type": "code",
   "execution_count": null,
   "id": "96034211",
   "metadata": {},
   "outputs": [],
   "source": []
  }
 ],
 "metadata": {
  "kernelspec": {
   "display_name": "Python 3 (ipykernel)",
   "language": "python",
   "name": "python3"
  },
  "language_info": {
   "codemirror_mode": {
    "name": "ipython",
    "version": 3
   },
   "file_extension": ".py",
   "mimetype": "text/x-python",
   "name": "python",
   "nbconvert_exporter": "python",
   "pygments_lexer": "ipython3",
   "version": "3.9.13"
  }
 },
 "nbformat": 4,
 "nbformat_minor": 5
}
