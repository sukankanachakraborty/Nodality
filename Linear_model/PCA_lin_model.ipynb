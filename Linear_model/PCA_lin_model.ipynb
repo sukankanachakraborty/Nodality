{
 "cells": [
  {
   "cell_type": "code",
   "execution_count": null,
   "id": "c13445b6",
   "metadata": {},
   "outputs": [],
   "source": [
    "import numpy as np\n",
    "import pandas as pd\n",
    "import networkx as nx\n",
    "import matplotlib.pyplot as plt\n",
    "from sklearn.preprocessing import StandardScaler\n",
    "from sklearn.decomposition import PCA\n",
    "from sklearn.cluster import KMeans\n",
    "from tqdm import tqdm\n",
    "from scipy.cluster.hierarchy import linkage\n",
    "import seaborn as sns\n",
    "from scipy.stats import boxcox\n",
    "import warnings\n",
    "\n",
    "from ipynb.fs.full.func_lib import adjust_dist\n",
    "from ipynb.fs.full.func_lib import get_class_labels"
   ]
  },
  {
   "cell_type": "code",
   "execution_count": null,
   "id": "b3ca2bdf",
   "metadata": {},
   "outputs": [],
   "source": [
    "feature_list = ['betweenness_centrality', 'eigenvector_centrality',\n",
    "       'degree_centrality', 'clustering_coefficient', 'neighbour_degree',\n",
    "       'strength', 't1', 't1_normalised', 't2', 't2_normalised']"
   ]
  },
  {
   "cell_type": "code",
   "execution_count": null,
   "id": "ec16dda0",
   "metadata": {},
   "outputs": [],
   "source": [
    "selected_ids = [2,5,7]\n",
    "selected_features = [feature_list[index] for index in selected_ids] + ['null_'+feature_list[index] for index in selected_ids]\n",
    "selected_features.insert(0,'Node')\n",
    "selected_features"
   ]
  },
  {
   "cell_type": "code",
   "execution_count": null,
   "id": "9b558196",
   "metadata": {},
   "outputs": [],
   "source": [
    "topics = ['ukraine','covid','costofliving','brexit']"
   ]
  },
  {
   "cell_type": "code",
   "execution_count": null,
   "id": "5c7d872a",
   "metadata": {},
   "outputs": [],
   "source": [
    "with warnings.catch_warnings():\n",
    "    warnings.simplefilter('ignore')\n",
    "\n",
    "    for topic in topics:\n",
    "        \n",
    "        print(topic)\n",
    "        \n",
    "        df_final = pd.DataFrame()\n",
    "\n",
    "        df = pd.read_csv('Node_measures_'+topic+'_2week.csv',index_col=0)\n",
    "\n",
    "        for i in range(53):\n",
    "\n",
    "            t = i+1\n",
    "\n",
    "            df_all = df.loc[df['week']==t]\n",
    "        \n",
    "            selected_features = [feature_list[index] for index in selected_ids] + ['null_'+feature_list[index] for index in selected_ids]\n",
    "            selected_features.insert(0,'Node')\n",
    "\n",
    "            df_all = df_all[selected_features]\n",
    "            \n",
    "            if len(df_all.index)>1:\n",
    "            \n",
    "                measure_list = df_all.columns.values[1:].reshape((2,len(selected_ids)))\n",
    "                measure_list = df_all.columns.values[1:]\n",
    "\n",
    "                X = df_all[measure_list].values.astype(float)\n",
    "                X_sc = StandardScaler().fit_transform(X)\n",
    "                pca = PCA()\n",
    "                X_pc = pca.fit_transform(X_sc)\n",
    "\n",
    "                df_pc = pd.DataFrame(data=X_pc[:,:2],columns=['Inherent', 'Active'])\n",
    "\n",
    "                if np.all(pca.components_[0] < 0):\n",
    "                    df_pc['Inherent'] = -1*df_pc['Inherent']\n",
    "\n",
    "                df_pc['Node'] = df_all['Node']\n",
    "                df_pc = df_pc.merge(get_class_labels(),on='Node')\n",
    "                df_pc['Label'] = df_pc['Label'].astype(int)\n",
    "                label_dict = {0:'Backbench MP',\n",
    "                            1:'Cabinet MP',\n",
    "                            2:'Shadow cabinet MP',\n",
    "                            3:'Opposition backbench MP',\n",
    "                            4:'Prominent journalists',\n",
    "                            5:'Rest of the journalists'}\n",
    "\n",
    "                df_pc['Label_str'] = df_pc['Label'].replace(to_replace=label_dict)\n",
    "\n",
    "\n",
    "                node = df_pc['Node']\n",
    "                df_pc.drop(labels=['Node'], axis=1,inplace = True)\n",
    "                df_pc.insert(0, 'Node', node)\n",
    "\n",
    "                df_pc['week'] = t\n",
    "\n",
    "                df_final = pd.concat([df_final,df_pc])\n",
    "\n",
    "        df_final.to_csv(f'PCA/'+topic+'_individual.csv')"
   ]
  }
 ],
 "metadata": {
  "kernelspec": {
   "display_name": "Python 3 (ipykernel)",
   "language": "python",
   "name": "python3"
  },
  "language_info": {
   "codemirror_mode": {
    "name": "ipython",
    "version": 3
   },
   "file_extension": ".py",
   "mimetype": "text/x-python",
   "name": "python",
   "nbconvert_exporter": "python",
   "pygments_lexer": "ipython3",
   "version": "3.9.13"
  }
 },
 "nbformat": 4,
 "nbformat_minor": 5
}
